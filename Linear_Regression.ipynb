{
  "nbformat": 4,
  "nbformat_minor": 0,
  "metadata": {
    "colab": {
      "name": "Linear Regression.ipynb",
      "provenance": [],
      "authorship_tag": "ABX9TyNo4TAv9ggxB1BCP7SGgEhx"
    },
    "kernelspec": {
      "name": "python3",
      "display_name": "Python 3"
    }
  },
  "cells": [
    {
      "cell_type": "markdown",
      "metadata": {
        "id": "J0eYGC2ffbll",
        "colab_type": "text"
      },
      "source": [
        "Importing Required Libraries"
      ]
    },
    {
      "cell_type": "code",
      "metadata": {
        "id": "SBboa3H6fZpk",
        "colab_type": "code",
        "colab": {
          "base_uri": "https://localhost:8080/",
          "height": 72
        },
        "outputId": "de055874-9d50-4659-d00c-722a387a8bef"
      },
      "source": [
        "import numpy as np\n",
        "import pandas as pd \n",
        "import matplotlib.pyplot as plt  \n",
        "%matplotlib inline\n",
        "import seaborn as sns"
      ],
      "execution_count": null,
      "outputs": [
        {
          "output_type": "stream",
          "text": [
            "/usr/local/lib/python3.6/dist-packages/statsmodels/tools/_testing.py:19: FutureWarning: pandas.util.testing is deprecated. Use the functions in the public API at pandas.testing instead.\n",
            "  import pandas.util.testing as tm\n"
          ],
          "name": "stderr"
        }
      ]
    },
    {
      "cell_type": "markdown",
      "metadata": {
        "id": "so_pdnp4gipc",
        "colab_type": "text"
      },
      "source": [
        "Reading the data"
      ]
    },
    {
      "cell_type": "code",
      "metadata": {
        "id": "Rer3EdJPJQnj",
        "colab_type": "code",
        "colab": {}
      },
      "source": [
        "#read data from local ,so need to upload files\n",
        "'''\n",
        "from google.colab import files\n",
        "files.upload()\n",
        "'''"
      ],
      "execution_count": null,
      "outputs": []
    },
    {
      "cell_type": "code",
      "metadata": {
        "id": "6sO_62cufxZS",
        "colab_type": "code",
        "colab": {}
      },
      "source": [
        "def load_data():\n",
        "  #reading data from url\n",
        "  url = \"http://bit.ly/w-data\"\n",
        "  \n",
        "  #to make its scope global\n",
        "  global data\n",
        "  data = pd.read_csv(url)\n",
        "  print(\"Data imported successfully\") \n",
        "  print(data.shape)\n",
        "  print(data.head())\n",
        "  "
      ],
      "execution_count": null,
      "outputs": []
    },
    {
      "cell_type": "markdown",
      "metadata": {
        "id": "aelmPu5SKR8T",
        "colab_type": "text"
      },
      "source": [
        "we can convert dataframe to csv"
      ]
    },
    {
      "cell_type": "code",
      "metadata": {
        "id": "wkqRfVJRJmbY",
        "colab_type": "code",
        "colab": {}
      },
      "source": [
        "data.to_csv(\"data.csv\",index=False)\n"
      ],
      "execution_count": null,
      "outputs": []
    },
    {
      "cell_type": "code",
      "metadata": {
        "id": "QQfEbt8Xf-_X",
        "colab_type": "code",
        "colab": {
          "base_uri": "https://localhost:8080/",
          "height": 159
        },
        "outputId": "32cbd5f9-88e1-4926-a8fe-451d96b84718"
      },
      "source": [
        "load_data()"
      ],
      "execution_count": null,
      "outputs": [
        {
          "output_type": "stream",
          "text": [
            "Data imported successfully\n",
            "(25, 2)\n",
            "   Hours  Scores\n",
            "0    2.5      21\n",
            "1    5.1      47\n",
            "2    3.2      27\n",
            "3    8.5      75\n",
            "4    3.5      30\n"
          ],
          "name": "stdout"
        }
      ]
    },
    {
      "cell_type": "markdown",
      "metadata": {
        "id": "GyaUkiS7gld9",
        "colab_type": "text"
      },
      "source": [
        "Basic analysis"
      ]
    },
    {
      "cell_type": "code",
      "metadata": {
        "id": "QfawIk7mgFja",
        "colab_type": "code",
        "colab": {
          "base_uri": "https://localhost:8080/",
          "height": 461
        },
        "outputId": "b6064068-37e3-4109-ee29-8c7e1b208f4a"
      },
      "source": [
        "def analysis():\n",
        "  print(data.info())\n",
        "  print(data.isnull().sum())\n",
        "  print(data.describe())\n",
        "  print(data.corr())\n",
        "analysis()"
      ],
      "execution_count": null,
      "outputs": [
        {
          "output_type": "stream",
          "text": [
            "<class 'pandas.core.frame.DataFrame'>\n",
            "RangeIndex: 25 entries, 0 to 24\n",
            "Data columns (total 2 columns):\n",
            " #   Column  Non-Null Count  Dtype  \n",
            "---  ------  --------------  -----  \n",
            " 0   Hours   25 non-null     float64\n",
            " 1   Scores  25 non-null     int64  \n",
            "dtypes: float64(1), int64(1)\n",
            "memory usage: 528.0 bytes\n",
            "None\n",
            "Hours     0\n",
            "Scores    0\n",
            "dtype: int64\n",
            "           Hours     Scores\n",
            "count  25.000000  25.000000\n",
            "mean    5.012000  51.480000\n",
            "std     2.525094  25.286887\n",
            "min     1.100000  17.000000\n",
            "25%     2.700000  30.000000\n",
            "50%     4.800000  47.000000\n",
            "75%     7.400000  75.000000\n",
            "max     9.200000  95.000000\n",
            "           Hours    Scores\n",
            "Hours   1.000000  0.976191\n",
            "Scores  0.976191  1.000000\n"
          ],
          "name": "stdout"
        }
      ]
    },
    {
      "cell_type": "code",
      "metadata": {
        "id": "qyv54yqZMsJu",
        "colab_type": "code",
        "colab": {}
      },
      "source": [
        ""
      ],
      "execution_count": null,
      "outputs": []
    },
    {
      "cell_type": "markdown",
      "metadata": {
        "id": "ow_LhzYUhMaE",
        "colab_type": "text"
      },
      "source": [
        "Visualisation"
      ]
    },
    {
      "cell_type": "code",
      "metadata": {
        "id": "xthCP3I_g4qE",
        "colab_type": "code",
        "colab": {
          "base_uri": "https://localhost:8080/",
          "height": 1000
        },
        "outputId": "e10f829e-1ec7-4fba-c473-e457b1409eb9"
      },
      "source": [
        "def visual():\n",
        "  sns.heatmap(data.corr())\n",
        "  sns.pairplot(data)\n",
        "  data.hist(bins=50)\n",
        "  data.plot(x='Hours', y='Scores', style='*')  \n",
        "  plt.title('Hours vs Percentage')  \n",
        "  plt.xlabel('Hours Studied')  \n",
        "  plt.ylabel('Percentage Score')  \n",
        "  plt.show()\n",
        "visual()"
      ],
      "execution_count": null,
      "outputs": [
        {
          "output_type": "display_data",
          "data": {
            "image/png": "[encoded data removed]",
            "text/plain": [
              "<Figure size 432x288 with 2 Axes>"
            ]
          },
          "metadata": {
            "tags": [],
            "needs_background": "light"
          }
        },
        {
          "output_type": "display_data",
          "data": {
            "image/png": "[encoded data removed]",
            "text/plain": [
              "<Figure size 360x360 with 6 Axes>"
            ]
          },
          "metadata": {
            "tags": [],
            "needs_background": "light"
          }
        },
        {
          "output_type": "display_data",
          "data": {
            "image/png": "[encoded data removed]",
            "text/plain": [
              "<Figure size 432x288 with 2 Axes>"
            ]
          },
          "metadata": {
            "tags": [],
            "needs_background": "light"
          }
        },
        {
          "output_type": "display_data",
          "data": {
            "image/png": "[encoded data removed]",
            "text/plain": [
              "<Figure size 432x288 with 1 Axes>"
            ]
          },
          "metadata": {
            "tags": [],
            "needs_background": "light"
          }
        }
      ]
    },
    {
      "cell_type": "markdown",
      "metadata": {
        "id": "3YBc6bhBqMM6",
        "colab_type": "text"
      },
      "source": [
        "Preparing data"
      ]
    },
    {
      "cell_type": "code",
      "metadata": {
        "id": "BrLB58SdhfsF",
        "colab_type": "code",
        "colab": {}
      },
      "source": [
        "X = data.iloc[:, :-1].values  \n",
        "y = data.iloc[:, 1].values  "
      ],
      "execution_count": null,
      "outputs": []
    },
    {
      "cell_type": "code",
      "metadata": {
        "id": "fNVNpSfkqSoD",
        "colab_type": "code",
        "colab": {}
      },
      "source": [
        "from sklearn.model_selection import train_test_split  \n",
        "X_train, X_test, y_train, y_test = train_test_split(X, y, \n",
        "                            test_size=0.2, random_state=0) "
      ],
      "execution_count": null,
      "outputs": []
    },
    {
      "cell_type": "markdown",
      "metadata": {
        "id": "lSNWHTmoNzci",
        "colab_type": "text"
      },
      "source": [
        "training"
      ]
    },
    {
      "cell_type": "code",
      "metadata": {
        "id": "GU1CYObTqYDG",
        "colab_type": "code",
        "colab": {
          "base_uri": "https://localhost:8080/",
          "height": 300
        },
        "outputId": "0a6dce1c-4732-4dc9-ae1c-f5611f103de9"
      },
      "source": [
        "from sklearn.linear_model import LinearRegression  \n",
        "regressor = LinearRegression()  \n",
        "regressor.fit(X_train, y_train) \n",
        "line = regressor.coef_*X+regressor.intercept_\n",
        "print(regressor.coef_,'is the coeff')\n",
        "print(regressor.intercept_,'is the intercept')\n",
        "\n",
        "# Plotting for the test data\n",
        "plt.scatter(X, y)\n",
        "plt.plot(X, line);\n",
        "plt.show()\n"
      ],
      "execution_count": null,
      "outputs": [
        {
          "output_type": "stream",
          "text": [
            "[9.91065648] is the coeff\n",
            "2.018160041434662 is the intercept\n"
          ],
          "name": "stdout"
        },
        {
          "output_type": "display_data",
          "data": {
            "image/png": "[encoded data removed]",
            "text/plain": [
              "<Figure size 432x288 with 1 Axes>"
            ]
          },
          "metadata": {
            "tags": [],
            "needs_background": "light"
          }
        }
      ]
    },
    {
      "cell_type": "markdown",
      "metadata": {
        "id": "Kc2XcLnDPNM9",
        "colab_type": "text"
      },
      "source": [
        "Evualtion"
      ]
    },
    {
      "cell_type": "code",
      "metadata": {
        "id": "DSAqFjdTOcIA",
        "colab_type": "code",
        "colab": {
          "base_uri": "https://localhost:8080/",
          "height": 70
        },
        "outputId": "7909cad9-4abc-4078-ddb3-53649403e1bc"
      },
      "source": [
        "y_pred = regressor.predict(X_test)\n",
        "y_predic=y_pred\n",
        "from sklearn import metrics\n",
        "print(\"Mean absolute error is\",metrics.mean_absolute_error(y_test,y_predic))\n",
        "print(\"Mean squared error is\",metrics.mean_squared_error(y_test,y_predic))\n",
        "print(\" Root Mean square error is\",np.sqrt(metrics.mean_absolute_error(y_test,y_predic)))"
      ],
      "execution_count": null,
      "outputs": [
        {
          "output_type": "stream",
          "text": [
            "Mean absolute error is 4.183859899002982\n",
            "Mean squared error is 21.598769307217456\n",
            " Root Mean square error is 2.0454485813637513\n"
          ],
          "name": "stdout"
        }
      ]
    },
    {
      "cell_type": "code",
      "metadata": {
        "id": "eVlsgsQCQCb7",
        "colab_type": "code",
        "colab": {
          "base_uri": "https://localhost:8080/",
          "height": 194
        },
        "outputId": "57a95288-12b3-430d-f582-8915cd468971"
      },
      "source": [
        "df = pd.DataFrame({'Actual': y_test, 'Predicted': y_pred})  \n",
        "df "
      ],
      "execution_count": null,
      "outputs": [
        {
          "output_type": "execute_result",
          "data": {
            "text/html": [
              "<div>\n",
              "<style scoped>\n",
              "    .dataframe tbody tr th:only-of-type {\n",
              "        vertical-align: middle;\n",
              "    }\n",
              "\n",
              "    .dataframe tbody tr th {\n",
              "        vertical-align: top;\n",
              "    }\n",
              "\n",
              "    .dataframe thead th {\n",
              "        text-align: right;\n",
              "    }\n",
              "</style>\n",
              "<table border=\"1\" class=\"dataframe\">\n",
              "  <thead>\n",
              "    <tr style=\"text-align: right;\">\n",
              "      <th></th>\n",
              "      <th>Actual</th>\n",
              "      <th>Predicted</th>\n",
              "    </tr>\n",
              "  </thead>\n",
              "  <tbody>\n",
              "    <tr>\n",
              "      <th>0</th>\n",
              "      <td>20</td>\n",
              "      <td>16.884145</td>\n",
              "    </tr>\n",
              "    <tr>\n",
              "      <th>1</th>\n",
              "      <td>27</td>\n",
              "      <td>33.732261</td>\n",
              "    </tr>\n",
              "    <tr>\n",
              "      <th>2</th>\n",
              "      <td>69</td>\n",
              "      <td>75.357018</td>\n",
              "    </tr>\n",
              "    <tr>\n",
              "      <th>3</th>\n",
              "      <td>30</td>\n",
              "      <td>26.794801</td>\n",
              "    </tr>\n",
              "    <tr>\n",
              "      <th>4</th>\n",
              "      <td>62</td>\n",
              "      <td>60.491033</td>\n",
              "    </tr>\n",
              "  </tbody>\n",
              "</table>\n",
              "</div>"
            ],
            "text/plain": [
              "   Actual  Predicted\n",
              "0      20  16.884145\n",
              "1      27  33.732261\n",
              "2      69  75.357018\n",
              "3      30  26.794801\n",
              "4      62  60.491033"
            ]
          },
          "metadata": {
            "tags": []
          },
          "execution_count": 17
        }
      ]
    },
    {
      "cell_type": "markdown",
      "metadata": {
        "id": "qpSV7Aa8QEWX",
        "colab_type": "text"
      },
      "source": [
        "RESCALING IMPROVES ACCURACY"
      ]
    },
    {
      "cell_type": "code",
      "metadata": {
        "id": "BM-9TcDwPbjO",
        "colab_type": "code",
        "colab": {
          "base_uri": "https://localhost:8080/",
          "height": 106
        },
        "outputId": "5c033111-3f76-4191-d725-34013bb60a49"
      },
      "source": [
        "from sklearn.preprocessing import StandardScaler\n",
        "Sc=StandardScaler()\n",
        "sc_y = StandardScaler()\n",
        "X=Sc.fit_transform(X)\n",
        "y = np.array(y).reshape(-1,1)\n",
        "y = sc_y.fit_transform(y)\n",
        "from sklearn.model_selection import train_test_split  \n",
        "X_train, X_test, y_train, y_test = train_test_split(X, y, \n",
        "                            test_size=0.2, random_state=0) \n",
        "regressor = LinearRegression()  \n",
        "regressor.fit(X_train, y_train) \n",
        "line = regressor.coef_*X+regressor.intercept_\n",
        "print(regressor.coef_,'is the coeff')\n",
        "print(regressor.intercept_,'is the intercept')\n",
        "y_pred = regressor.predict(X_test)\n",
        "y_predic=y_pred\n",
        "from sklearn import metrics\n",
        "print(\"Mean absolute error is\",metrics.mean_absolute_error(y_test,y_predic))\n",
        "print(\"Mean squared error is\",metrics.mean_squared_error(y_test,y_predic))\n",
        "print(\" Root Mean square error is\",np.sqrt(metrics.mean_absolute_error(y_test,y_predic)))"
      ],
      "execution_count": null,
      "outputs": [
        {
          "output_type": "stream",
          "text": [
            "[[0.98965679]] is the coeff\n",
            "[0.0084909] is the intercept\n",
            "Mean absolute error is 0.16886752752443157\n",
            "Mean squared error is 0.03518576750268702\n",
            " Root Mean square error is 0.410934943177666\n"
          ],
          "name": "stdout"
        }
      ]
    },
    {
      "cell_type": "markdown",
      "metadata": {
        "id": "lheItl7nTvkV",
        "colab_type": "text"
      },
      "source": [
        "distribution of error terms"
      ]
    },
    {
      "cell_type": "code",
      "metadata": {
        "id": "0hgd-ojISaQX",
        "colab_type": "code",
        "colab": {
          "base_uri": "https://localhost:8080/",
          "height": 361
        },
        "outputId": "88e27272-354d-46f2-d190-9bbc615dec2c"
      },
      "source": [
        "import statsmodels.api as sm\n",
        "m=sm.OLS(y_train,X_train).fit()\n",
        "residual_val=m.resid\n",
        "fig=sm.qqplot(residual_val,fit=True,line='45')\n",
        "plt.show()"
      ],
      "execution_count": null,
      "outputs": [
        {
          "output_type": "display_data",
          "data": {
            "image/png": "[encoded data removed]",
            "text/plain": [
              "<Figure size 576x396 with 1 Axes>"
            ]
          },
          "metadata": {
            "tags": []
          }
        }
      ]
    },
    {
      "cell_type": "code",
      "metadata": {
        "id": "APzGmO_dT0kF",
        "colab_type": "code",
        "colab": {
          "base_uri": "https://localhost:8080/",
          "height": 413
        },
        "outputId": "dd001351-aa52-4502-d768-0bbb67bd677b"
      },
      "source": [
        "m.summary()"
      ],
      "execution_count": null,
      "outputs": [
        {
          "output_type": "execute_result",
          "data": {
            "text/html": [
              "<table class=\"simpletable\">\n",
              "<caption>OLS Regression Results</caption>\n",
              "<tr>\n",
              "  <th>Dep. Variable:</th>            <td>y</td>        <th>  R-squared (uncentered):</th>      <td>   0.991</td>\n",
              "</tr>\n",
              "<tr>\n",
              "  <th>Model:</th>                   <td>OLS</td>       <th>  Adj. R-squared (uncentered):</th> <td>   0.991</td>\n",
              "</tr>\n",
              "<tr>\n",
              "  <th>Method:</th>             <td>Least Squares</td>  <th>  F-statistic:       </th>          <td>   2111.</td>\n",
              "</tr>\n",
              "<tr>\n",
              "  <th>Date:</th>             <td>Sun, 06 Sep 2020</td> <th>  Prob (F-statistic):</th>          <td>6.12e-21</td>\n",
              "</tr>\n",
              "<tr>\n",
              "  <th>Time:</th>                 <td>07:26:45</td>     <th>  Log-Likelihood:    </th>          <td> -62.925</td>\n",
              "</tr>\n",
              "<tr>\n",
              "  <th>No. Observations:</th>      <td>    20</td>      <th>  AIC:               </th>          <td>   127.8</td>\n",
              "</tr>\n",
              "<tr>\n",
              "  <th>Df Residuals:</th>          <td>    19</td>      <th>  BIC:               </th>          <td>   128.8</td>\n",
              "</tr>\n",
              "<tr>\n",
              "  <th>Df Model:</th>              <td>     1</td>      <th>                     </th>              <td> </td>   \n",
              "</tr>\n",
              "<tr>\n",
              "  <th>Covariance Type:</th>      <td>nonrobust</td>    <th>                     </th>              <td> </td>   \n",
              "</tr>\n",
              "</table>\n",
              "<table class=\"simpletable\">\n",
              "<tr>\n",
              "   <td></td>     <th>coef</th>     <th>std err</th>      <th>t</th>      <th>P>|t|</th>  <th>[0.025</th>    <th>0.975]</th>  \n",
              "</tr>\n",
              "<tr>\n",
              "  <th>x1</th> <td>   10.2251</td> <td>    0.223</td> <td>   45.950</td> <td> 0.000</td> <td>    9.759</td> <td>   10.691</td>\n",
              "</tr>\n",
              "</table>\n",
              "<table class=\"simpletable\">\n",
              "<tr>\n",
              "  <th>Omnibus:</th>       <td> 2.581</td> <th>  Durbin-Watson:     </th> <td>   1.873</td>\n",
              "</tr>\n",
              "<tr>\n",
              "  <th>Prob(Omnibus):</th> <td> 0.275</td> <th>  Jarque-Bera (JB):  </th> <td>   1.529</td>\n",
              "</tr>\n",
              "<tr>\n",
              "  <th>Skew:</th>          <td>-0.410</td> <th>  Prob(JB):          </th> <td>   0.466</td>\n",
              "</tr>\n",
              "<tr>\n",
              "  <th>Kurtosis:</th>      <td> 1.922</td> <th>  Cond. No.          </th> <td>    1.00</td>\n",
              "</tr>\n",
              "</table><br/><br/>Warnings:<br/>[1] Standard Errors assume that the covariance matrix of the errors is correctly specified."
            ],
            "text/plain": [
              "<class 'statsmodels.iolib.summary.Summary'>\n",
              "\"\"\"\n",
              "                                 OLS Regression Results                                \n",
              "=======================================================================================\n",
              "Dep. Variable:                      y   R-squared (uncentered):                   0.991\n",
              "Model:                            OLS   Adj. R-squared (uncentered):              0.991\n",
              "Method:                 Least Squares   F-statistic:                              2111.\n",
              "Date:                Sun, 06 Sep 2020   Prob (F-statistic):                    6.12e-21\n",
              "Time:                        07:26:45   Log-Likelihood:                         -62.925\n",
              "No. Observations:                  20   AIC:                                      127.8\n",
              "Df Residuals:                      19   BIC:                                      128.8\n",
              "Df Model:                           1                                                  \n",
              "Covariance Type:            nonrobust                                                  \n",
              "==============================================================================\n",
              "                 coef    std err          t      P>|t|      [0.025      0.975]\n",
              "------------------------------------------------------------------------------\n",
              "x1            10.2251      0.223     45.950      0.000       9.759      10.691\n",
              "==============================================================================\n",
              "Omnibus:                        2.581   Durbin-Watson:                   1.873\n",
              "Prob(Omnibus):                  0.275   Jarque-Bera (JB):                1.529\n",
              "Skew:                          -0.410   Prob(JB):                        0.466\n",
              "Kurtosis:                       1.922   Cond. No.                         1.00\n",
              "==============================================================================\n",
              "\n",
              "Warnings:\n",
              "[1] Standard Errors assume that the covariance matrix of the errors is correctly specified.\n",
              "\"\"\""
            ]
          },
          "metadata": {
            "tags": []
          },
          "execution_count": 35
        }
      ]
    },
    {
      "cell_type": "code",
      "metadata": {
        "id": "MBj9zt73T3-0",
        "colab_type": "code",
        "colab": {
          "base_uri": "https://localhost:8080/",
          "height": 288
        },
        "outputId": "f18346dd-af1a-4bc5-e072-0730a25fbe90"
      },
      "source": [
        "m.summary2()"
      ],
      "execution_count": null,
      "outputs": [
        {
          "output_type": "execute_result",
          "data": {
            "text/html": [
              "<table class=\"simpletable\">\n",
              "<tr>\n",
              "          <td>Model:</td>                 <td>OLS</td>       <td>Adj. R-squared (uncentered):</td>   <td>0.991</td> \n",
              "</tr>\n",
              "<tr>\n",
              "    <td>Dependent Variable:</td>           <td>y</td>                    <td>AIC:</td>             <td>127.8500</td>\n",
              "</tr>\n",
              "<tr>\n",
              "           <td>Date:</td>          <td>2020-09-06 07:27</td>             <td>BIC:</td>             <td>128.8457</td>\n",
              "</tr>\n",
              "<tr>\n",
              "     <td>No. Observations:</td>           <td>20</td>               <td>Log-Likelihood:</td>        <td>-62.925</td>\n",
              "</tr>\n",
              "<tr>\n",
              "         <td>Df Model:</td>                <td>1</td>                <td>F-statistic:</td>           <td>2111.</td> \n",
              "</tr>\n",
              "<tr>\n",
              "       <td>Df Residuals:</td>             <td>19</td>             <td>Prob (F-statistic):</td>     <td>6.12e-21</td>\n",
              "</tr>\n",
              "<tr>\n",
              "  <td>R-squared (uncentered):</td>       <td>0.991</td>                 <td>Scale:</td>             <td>33.312</td> \n",
              "</tr>\n",
              "</table>\n",
              "<table class=\"simpletable\">\n",
              "<tr>\n",
              "   <td></td>   <th>Coef.</th>  <th>Std.Err.</th>    <th>t</th>     <th>P>|t|</th> <th>[0.025</th> <th>0.975]</th> \n",
              "</tr>\n",
              "<tr>\n",
              "  <th>x1</th> <td>10.2251</td>  <td>0.2225</td>  <td>45.9497</td> <td>0.0000</td> <td>9.7593</td> <td>10.6908</td>\n",
              "</tr>\n",
              "</table>\n",
              "<table class=\"simpletable\">\n",
              "<tr>\n",
              "     <td>Omnibus:</td>     <td>2.581</td>  <td>Durbin-Watson:</td>   <td>1.873</td>\n",
              "</tr>\n",
              "<tr>\n",
              "  <td>Prob(Omnibus):</td>  <td>0.275</td> <td>Jarque-Bera (JB):</td> <td>1.529</td>\n",
              "</tr>\n",
              "<tr>\n",
              "       <td>Skew:</td>     <td>-0.410</td>     <td>Prob(JB):</td>     <td>0.466</td>\n",
              "</tr>\n",
              "<tr>\n",
              "     <td>Kurtosis:</td>    <td>1.922</td>  <td>Condition No.:</td>     <td>1</td>  \n",
              "</tr>\n",
              "</table>"
            ],
            "text/plain": [
              "<class 'statsmodels.iolib.summary2.Summary'>\n",
              "\"\"\"\n",
              "                       Results: Ordinary least squares\n",
              "==============================================================================\n",
              "Model:                  OLS              Adj. R-squared (uncentered): 0.991   \n",
              "Dependent Variable:     y                AIC:                         127.8500\n",
              "Date:                   2020-09-06 07:27 BIC:                         128.8457\n",
              "No. Observations:       20               Log-Likelihood:              -62.925 \n",
              "Df Model:               1                F-statistic:                 2111.   \n",
              "Df Residuals:           19               Prob (F-statistic):          6.12e-21\n",
              "R-squared (uncentered): 0.991            Scale:                       33.312  \n",
              "-----------------------------------------------------------------------------------\n",
              "             Coef.       Std.Err.         t         P>|t|       [0.025       0.975]\n",
              "-----------------------------------------------------------------------------------\n",
              "x1          10.2251        0.2225      45.9497      0.0000      9.7593      10.6908\n",
              "------------------------------------------------------------------------------\n",
              "Omnibus:                  2.581             Durbin-Watson:               1.873\n",
              "Prob(Omnibus):            0.275             Jarque-Bera (JB):            1.529\n",
              "Skew:                     -0.410            Prob(JB):                    0.466\n",
              "Kurtosis:                 1.922             Condition No.:               1    \n",
              "==============================================================================\n",
              "\n",
              "\"\"\""
            ]
          },
          "metadata": {
            "tags": []
          },
          "execution_count": 36
        }
      ]
    },
    {
      "cell_type": "markdown",
      "metadata": {
        "id": "bUfpXZMSUKCS",
        "colab_type": "text"
      },
      "source": [
        "Durbin-Watson:\t1.873 which is near to 2 and so it is evident that residuals are not correlated"
      ]
    },
    {
      "cell_type": "markdown",
      "metadata": {
        "id": "SI_cfYJRQUpk",
        "colab_type": "text"
      },
      "source": [
        "Residual plot"
      ]
    },
    {
      "cell_type": "code",
      "metadata": {
        "id": "3qBvbCIjP_r-",
        "colab_type": "code",
        "colab": {
          "base_uri": "https://localhost:8080/",
          "height": 435
        },
        "outputId": "262a31bf-7496-47db-ea16-bd6171757797"
      },
      "source": [
        "from yellowbrick.regressor import ResidualsPlot\n",
        "visualizer = ResidualsPlot(regressor, hist=False)\n",
        "visualizer.fit(X_train, y_train)\n",
        "visualizer.score(X_test, y_test)\n",
        "plt.title(\"Residual plot\")"
      ],
      "execution_count": null,
      "outputs": [
        {
          "output_type": "stream",
          "text": [
            "/usr/local/lib/python3.6/dist-packages/sklearn/utils/deprecation.py:144: FutureWarning: The sklearn.metrics.classification module is  deprecated in version 0.22 and will be removed in version 0.24. The corresponding classes / functions should instead be imported from sklearn.metrics. Anything that cannot be imported from sklearn.metrics is now part of the private API.\n",
            "  warnings.warn(message, FutureWarning)\n"
          ],
          "name": "stderr"
        },
        {
          "output_type": "execute_result",
          "data": {
            "text/plain": [
              "Text(0.5, 1.0, 'Residual plot')"
            ]
          },
          "metadata": {
            "tags": []
          },
          "execution_count": 25
        },
        {
          "output_type": "display_data",
          "data": {
            "image/png": "[encoded data removed]",
            "text/plain": [
              "<Figure size 576x396 with 1 Axes>"
            ]
          },
          "metadata": {
            "tags": []
          }
        }
      ]
    },
    {
      "cell_type": "code",
      "metadata": {
        "id": "5WtfiZSvQSaO",
        "colab_type": "code",
        "colab": {
          "base_uri": "https://localhost:8080/",
          "height": 364
        },
        "outputId": "c74727ad-a5c0-4443-dd42-3735cc50cef1"
      },
      "source": [
        "from yellowbrick.datasets import load_concrete\n",
        "from yellowbrick.regressor import ResidualsPlot\n",
        "visualizer = ResidualsPlot(regressor)\n",
        "\n",
        "visualizer.fit(X_train, y_train)  # Fit the training data to the visualizer\n",
        "visualizer.score(X_test, y_test)#result accuracy on test"
      ],
      "execution_count": null,
      "outputs": [
        {
          "output_type": "execute_result",
          "data": {
            "text/plain": [
              "0.9454906892105354"
            ]
          },
          "metadata": {
            "tags": []
          },
          "execution_count": 31
        },
        {
          "output_type": "display_data",
          "data": {
            "image/png": "[encoded data removed]",
            "text/plain": [
              "<Figure size 576x396 with 2 Axes>"
            ]
          },
          "metadata": {
            "tags": []
          }
        }
      ]
    },
    {
      "cell_type": "code",
      "metadata": {
        "id": "1xXrB8pRRKI5",
        "colab_type": "code",
        "colab": {}
      },
      "source": [
        ""
      ],
      "execution_count": null,
      "outputs": []
    }
  ]
}